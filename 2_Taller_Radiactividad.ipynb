{
  "nbformat": 4,
  "nbformat_minor": 0,
  "metadata": {
    "colab": {
      "provenance": [],
      "collapsed_sections": [
        "D80phxnRcSN9"
      ],
      "authorship_tag": "ABX9TyPgEH9xAuoOCxUsOEi9YRq7",
      "include_colab_link": true
    },
    "kernelspec": {
      "name": "python3",
      "display_name": "Python 3"
    },
    "language_info": {
      "name": "python"
    }
  },
  "cells": [
    {
      "cell_type": "markdown",
      "metadata": {
        "id": "view-in-github",
        "colab_type": "text"
      },
      "source": [
        "<a href=\"https://colab.research.google.com/github/PinzonHarker/2024-II_InstrumentacionNuclear/blob/main/2_Taller_Radiactividad.ipynb\" target=\"_parent\"><img src=\"https://colab.research.google.com/assets/colab-badge.svg\" alt=\"Open In Colab\"/></a>"
      ]
    },
    {
      "cell_type": "markdown",
      "source": [
        "### Previo"
      ],
      "metadata": {
        "id": "D80phxnRcSN9"
      }
    },
    {
      "cell_type": "code",
      "source": [
        "import numpy as np\n",
        "import matplotlib as mpl\n",
        "import matplotlib.pyplot as plt\n",
        "import random as rn\n",
        "\n",
        "\n",
        "def plot_template(title, x_label, y_label, x_lim=None, y_lim=None):\n",
        "    \"\"\"Genera la plantilla para mantener consistencia en el formato\n",
        "    de cada tabla generada.\n",
        "\n",
        "    Args:\n",
        "        title (string): Aplica titulos.\n",
        "        x_label (float): Título de eje x.\n",
        "        y_label (float): Título de eje y.\n",
        "        x_lim ([float], optional): Límite en eje x. Defaults to None.\n",
        "        y_lim ([float], optional): Límite en eje y. Defaults to None.\n",
        "\n",
        "    Returns:\n",
        "        object: Devuelve los objetos de la gráfica modificados con la\n",
        "        plantilla requerida\n",
        "    \"\"\"\n",
        "    fig, ax = plt.subplots(  # Tamaño de la figura en pulgadas (ancho, alto)\n",
        "        figsize=(10, 6)\n",
        "    )\n",
        "\n",
        "    # Configuración de rótulos y unidades\n",
        "    ax.set_title(title, fontsize=16)  # Título con tamaño de fuente\n",
        "    ax.set_xlabel(x_label, fontsize=14)  # Eje x con rótulo y unidades\n",
        "    ax.set_ylabel(y_label, fontsize=14)  # Eje y con rótulo y unidades\n",
        "\n",
        "    # Configuración de la escala y las dimensiones\n",
        "    if x_lim is not None:\n",
        "        ax.set_xlim(x_lim)  # Limitar el eje x\n",
        "    if y_lim is not None:\n",
        "        ax.set_ylim(y_lim)  # Limitar el eje y\n",
        "\n",
        "    ax.grid(True, which=\"both\", linestyle=\"--\", alpha=0.7)  # Añadir una cuadrícula\n",
        "\n",
        "    fig.tight_layout()  # Ajusta los elementos para que no se solapen\n",
        "\n",
        "    return (  # Devolver las figuras y ejes para más modificaciones si es necesario\n",
        "        fig,\n",
        "        ax,\n",
        "    )\n",
        "\n",
        "\n",
        "# test\n",
        "if False:\n",
        "    x = np.linspace(0, 10, 100)\n",
        "    fig, ax = plot_template(\"This is a test\", \"X label\", \"Y label\", [0, 10], [-1, 1])\n",
        "    ax.scatter(x, [np.sin(i) for i in x], marker=\"+\", color=\"red\")"
      ],
      "metadata": {
        "id": "KjJWkkoccPut"
      },
      "execution_count": 1,
      "outputs": []
    },
    {
      "cell_type": "markdown",
      "source": [
        "# Simulación 2. Instrumentación Nuclear\n",
        "\n",
        "Este trabajo resuelve la simulación #2 para la clase de Instrumentación Nuclear del semestre 2024-II a cargo del profesor L.F. Cristancho."
      ],
      "metadata": {
        "id": "1ojiNV_JRwr3"
      }
    },
    {
      "cell_type": "markdown",
      "source": [
        "## Parte I: Distribución Exponencial."
      ],
      "metadata": {
        "id": "ysJVaWpkR1FX"
      }
    },
    {
      "cell_type": "markdown",
      "source": [
        "A partir de la probabilidad"
      ],
      "metadata": {
        "id": "j_wSFOlqSCK-"
      }
    },
    {
      "cell_type": "code",
      "execution_count": null,
      "metadata": {
        "id": "wxyB8Sst59_S"
      },
      "outputs": [],
      "source": []
    },
    {
      "cell_type": "markdown",
      "source": [
        "### 1. Núcleo elegido $^{60} \\text{Co}$"
      ],
      "metadata": {
        "id": "_Dz7sQikWemZ"
      }
    },
    {
      "cell_type": "code",
      "source": [
        "T12 = 5.2711   # [a]\n",
        "u_T12 = 8e-4\n",
        "\n",
        "# calculo de tau\n",
        "tau = T12 / np.log(2)\n",
        "u_tau = u_T12 / np.log(2)\n",
        "\n",
        "# calculo de gamma\n",
        "gamma = 1/tau\n",
        "u_gamma = u_tau / tau**2\n",
        "\n",
        "# imprimir\n",
        "print(f\"\"\"\n",
        "tau = ({tau:.4f} +- {u_tau:.4f}) [a]\n",
        "gamma = ({gamma:.6f} +- {u_gamma:.6f}) [a^-1]\n",
        "\"\"\")\n",
        "\n",
        "# en segundos\n",
        "tau *= 365 * 24 * 60 * 60\n",
        "u_tau *= 365 * 24 * 60 * 60\n",
        "\n",
        "# recalculo de gamma\n",
        "gamma = 1/tau\n",
        "u_gamma = u_tau / tau**2\n",
        "\n",
        "# imprimir\n",
        "print(f\"\"\"\n",
        "tau = ({tau:.8e} +- {u_tau:.8e}) [s]\n",
        "gamma = ({gamma:.8e} +- {u_gamma:.8e}) [s^-1]\n",
        "\"\"\")"
      ],
      "metadata": {
        "colab": {
          "base_uri": "https://localhost:8080/"
        },
        "id": "GwxUsgdhbNBs",
        "outputId": "f6b81634-4d09-4379-ba82-5089bb4116ab"
      },
      "execution_count": null,
      "outputs": [
        {
          "output_type": "stream",
          "name": "stdout",
          "text": [
            "\n",
            "tau = (7.6046 +- 0.0012) [a]\n",
            "gamma = (0.131500 +- 0.000020) [a^-1]\n",
            "\n",
            "\n",
            "tau = (2.39818345e+08 +- 3.63974646e+04) [s]\n",
            "gamma = (4.16982279e-09 +- 6.32858081e-13) [s^-1]\n",
            "\n"
          ]
        }
      ]
    },
    {
      "cell_type": "markdown",
      "source": [
        "Se tomará el núcleo de Cobalto 60 debido al uso común en aplicaciones de radio terapia en la física médica. Las propiedades estudiadas se exponen a continuación : (14.6: Vida Media Y Cinética de Desintegración Radiactiva, 2022)\n",
        "\n",
        "- Tiempo semivida $T_{1/2}$ = $5.2711 (8) \\, \\text{a}$\n",
        "\n",
        "El cálculo de la constante de semidesintegración $\\Gamma$ y la vida media $\\tau$ se consiguen como (incluir referencia guía 1 profesor):\n",
        "\n",
        "$$T_{1/2} = \\ln (2) \\, \\tau \\hspace{50pt} \\Gamma = \\frac{1}{\\tau}$$"
      ],
      "metadata": {
        "id": "U2MVFtbvWp_w"
      }
    },
    {
      "cell_type": "markdown",
      "source": [
        "Luego, los parámetros resultan:\n",
        "$$ \\tau = 7.6046(12)  \\, \\text{a}  \\hspace{50pt} \\Gamma = 0.131500(20)  \\, \\text{a}^{-1}$$\n",
        "$$ \\tau = (2.39818(36)\\times 10^8)  \\, \\text{s}  \\hspace{50pt} \\Gamma = (4.16982(63) \\times 10^{-9})  \\, \\text{s}^{-1}$$"
      ],
      "metadata": {
        "id": "ObkYMA53c5Ra"
      }
    },
    {
      "cell_type": "markdown",
      "source": [
        "### 2. Periodo $\\Delta t$"
      ],
      "metadata": {
        "id": "_9-1FdDo1uu-"
      }
    },
    {
      "cell_type": "markdown",
      "source": [
        "Elegimos el periodo de tiempo tal que nos de una cantidad razonable del promedio de decaimientos. Suponiendo una distribución Poisson del tipo\n",
        "\n",
        "$$P_p(x) = \\frac{\\mu^x e^{-\\mu}}{x}$$\n",
        "\n",
        "Podemos suponer que la probabilidad individual por unidad de tiempo es de la forma\n",
        "$$\\Gamma = \\frac{p}{\\Delta t}$$\n",
        "\n",
        "Para la probabilidad promedio que sería\n",
        "\n",
        "$$\\mu = Np = N \\Gamma \\Delta t$$\n",
        "\n"
      ],
      "metadata": {
        "id": "ZQn6g-QP121M"
      }
    },
    {
      "cell_type": "markdown",
      "source": [
        "## Parte II: Distribución Binomial Núcleo por Núcleo"
      ],
      "metadata": {
        "id": "Ud4mzJy-0HHv"
      }
    },
    {
      "cell_type": "markdown",
      "source": [
        "Se responderán a los resultados de la simulación de la desintegración nuclear como distribución binomial"
      ],
      "metadata": {
        "id": "ZqD0DIzt0W1w"
      }
    },
    {
      "cell_type": "markdown",
      "source": [
        "### Probabilidad"
      ],
      "metadata": {
        "id": "Vt42Egeu3w6S"
      }
    },
    {
      "cell_type": "code",
      "source": [],
      "metadata": {
        "id": "tHhcDNKm0Gmw"
      },
      "execution_count": null,
      "outputs": []
    },
    {
      "cell_type": "markdown",
      "source": [
        "## Referencias"
      ],
      "metadata": {
        "id": "dhLqDvjMOWsE"
      }
    },
    {
      "cell_type": "markdown",
      "source": [
        "- Indice de todo lo nuclear super bueno\n",
        "Nuclear Data – Table – Laboratoire National Henri Becquerel. (2016). Lnhb.fr. http://www.lnhb.fr/home/nuclear-data/nuclear-data-table/\n",
        "\n",
        "- Exacto para el 60\n",
        "http://www.lnhb.fr/nuclides/Co-60_tables.pdf\n",
        "\n",
        "\n",
        "- ToxFAQsTM: Cobalto (Cobalt) | ToxFAQ | ATSDR. (2023, February 2). Cdc.gov. https://www.atsdr.cdc.gov/es/toxfaqs/es_tfacts33.html#:~:text=El%2060Co%20(l%C3%A9ase%20cobalto,la%20investigaci%C3%B3n%20m%C3%A9dica%20y%20cient%C3%ADfica.\n",
        "\n",
        "- 14.6: Vida media y cinética de desintegración radiactiva. (2022, October 30). LibreTexts Español. https://espanol.libretexts.org/Quimica/Qu%C3%ADmica_General/Mapa:_Qu%C3%ADmica_General:_Principios,_Patrones_y_Aplicaciones_%28Averill%29/14:_Cin%C3%A9tica_qu%C3%ADmica/14.06:_Vida_media_y_cin%C3%A9tica_de_desintegraci%C3%B3n_radiactiva?form=MG0AV3\n"
      ],
      "metadata": {
        "id": "yFBO6_yCOYmW"
      }
    }
  ]
}